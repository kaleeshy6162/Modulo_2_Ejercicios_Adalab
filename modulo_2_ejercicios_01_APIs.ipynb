{
 "cells": [
  {
   "cell_type": "markdown",
   "metadata": {},
   "source": [
    "- intalacion e importaciones."
   ]
  },
  {
   "cell_type": "code",
   "execution_count": 1,
   "metadata": {},
   "outputs": [
    {
     "name": "stdout",
     "output_type": "stream",
     "text": [
      "Requirement already satisfied: requests in /home/kaleeshy6162/anaconda3/lib/python3.9/site-packages (2.27.1)\n",
      "Requirement already satisfied: certifi>=2017.4.17 in /home/kaleeshy6162/anaconda3/lib/python3.9/site-packages (from requests) (2021.10.8)\n",
      "Requirement already satisfied: idna<4,>=2.5 in /home/kaleeshy6162/anaconda3/lib/python3.9/site-packages (from requests) (3.3)\n",
      "Requirement already satisfied: charset-normalizer~=2.0.0 in /home/kaleeshy6162/anaconda3/lib/python3.9/site-packages (from requests) (2.0.4)\n",
      "Requirement already satisfied: urllib3<1.27,>=1.21.1 in /home/kaleeshy6162/anaconda3/lib/python3.9/site-packages (from requests) (1.26.9)\n"
     ]
    }
   ],
   "source": [
    "#!pip install requests"
   ]
  },
  {
   "cell_type": "code",
   "execution_count": 2,
   "metadata": {},
   "outputs": [],
   "source": [
    "import pandas as pd"
   ]
  },
  {
   "cell_type": "code",
   "execution_count": 3,
   "metadata": {},
   "outputs": [],
   "source": [
    "import requests"
   ]
  },
  {
   "cell_type": "code",
   "execution_count": 4,
   "metadata": {},
   "outputs": [],
   "source": [
    "import re"
   ]
  },
  {
   "cell_type": "code",
   "execution_count": 5,
   "metadata": {},
   "outputs": [],
   "source": [
    "pd.set_option('display.max_columns', None)"
   ]
  },
  {
   "cell_type": "markdown",
   "metadata": {},
   "source": [
    "# Ejercicios:"
   ]
  },
  {
   "cell_type": "markdown",
   "metadata": {},
   "source": [
    "1.  Utilizando la API de [Balldontlie](https://www.balldontlie.io/#introduction), hazte un usuario para usar la API y extrae la siguiente información. \n",
    "\n",
    "    - El nombre, apellido y equipo de cada uno de los jugadores que tenemos en la NBA. Para eso tendrás que usar el siguiente endpoint `https://api.balldontlie.io/v1/players`. Extrae información de 200 jugadores. Devuelve los resultados en un DataFrame. Te deberá quedar algo parecido a esto:\n",
    "\n",
    "        ![jugadores](https://github.com/Adalab/data_imagenes/blob/main/Modulo-2/api's_clase_invertida_jugadores.png?raw=true)"
   ]
  },
  {
   "cell_type": "code",
   "execution_count": null,
   "metadata": {},
   "outputs": [],
   "source": [
    "URL = \"https://api.balldontlie.io/v1/players\"\n",
    "\n",
    "api_key = \"ad778a6d-9343-40a1-afad-20870c32dd62\""
   ]
  },
  {
   "cell_type": "code",
   "execution_count": null,
   "metadata": {},
   "outputs": [],
   "source": []
  },
  {
   "cell_type": "code",
   "execution_count": null,
   "metadata": {},
   "outputs": [],
   "source": [
    "respuesta.reason"
   ]
  },
  {
   "cell_type": "code",
   "execution_count": null,
   "metadata": {},
   "outputs": [],
   "source": [
    "respuesta.content"
   ]
  },
  {
   "cell_type": "code",
   "execution_count": null,
   "metadata": {},
   "outputs": [],
   "source": [
    "jugadores = respuesta.json()\n",
    "\n",
    "jugadores"
   ]
  },
  {
   "cell_type": "code",
   "execution_count": null,
   "metadata": {},
   "outputs": [],
   "source": [
    "type(jugadores)"
   ]
  },
  {
   "cell_type": "code",
   "execution_count": null,
   "metadata": {},
   "outputs": [],
   "source": [
    "jugadores_final = {\"nombres\": [], \"apellidos\":[], \"equipos\": []}\n",
    "\n",
    "for jugador in jugadores[\"data\"]:\n",
    "    \n",
    "    jugadores_final[\"nombres\"].append(jugador[\"first_name\"])\n",
    "    jugadores_final[\"apellidos\"].append(jugador[\"last_name\"])\n",
    "    jugadores_final[\"equipos\"].append(jugador[\"team\"][\"full_name\"])"
   ]
  },
  {
   "cell_type": "code",
   "execution_count": null,
   "metadata": {},
   "outputs": [],
   "source": [
    "jugadores_final"
   ]
  },
  {
   "cell_type": "markdown",
   "metadata": {},
   "source": [
    "- Extrae información de todos los partidos jugados, en concreto deberás sacar la información del nombre del equipo local, nombre del equipo visitante, puntos del equipo local y del visitante y la temporada a la que pertenece el partido. Para eso tendrás que usar el siguiente endpoint: `https://api.balldontlie.io/v1/games`. Extrae la información de 200 partidos. Devuelve los resultados en un DataFrame. Te deberá quedar algo parecido a esto: \n",
    "\n",
    "        ![partidos](https://github.com/Adalab/data_imagenes/blob/main/Modulo-2/api's_clase_invertida_partidos.png?raw=true)"
   ]
  },
  {
   "cell_type": "code",
   "execution_count": null,
   "metadata": {},
   "outputs": [],
   "source": []
  },
  {
   "cell_type": "code",
   "execution_count": null,
   "metadata": {},
   "outputs": [],
   "source": []
  }
 ],
 "metadata": {
  "kernelspec": {
   "display_name": "base",
   "language": "python",
   "name": "python3"
  },
  "language_info": {
   "codemirror_mode": {
    "name": "ipython",
    "version": 3
   },
   "file_extension": ".py",
   "mimetype": "text/x-python",
   "name": "python",
   "nbconvert_exporter": "python",
   "pygments_lexer": "ipython3",
   "version": "3.9.12"
  }
 },
 "nbformat": 4,
 "nbformat_minor": 2
}
